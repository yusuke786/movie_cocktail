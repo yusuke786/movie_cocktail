{
 "cells": [
  {
   "cell_type": "code",
   "execution_count": 2,
   "metadata": {},
   "outputs": [],
   "source": [
    "import pandas as pd"
   ]
  },
  {
   "cell_type": "code",
   "execution_count": 17,
   "metadata": {},
   "outputs": [
    {
     "name": "stdout",
     "output_type": "stream",
     "text": [
      "Requirement already satisfied: openpyxl in c:\\users\\t-yusuke\\anaconda3\\lib\\site-packages (3.0.4)\n",
      "Requirement already satisfied: jdcal in c:\\users\\t-yusuke\\anaconda3\\lib\\site-packages (from openpyxl) (1.4.1)\n",
      "Requirement already satisfied: et-xmlfile in c:\\users\\t-yusuke\\anaconda3\\lib\\site-packages (from openpyxl) (1.0.1)\n",
      "Note: you may need to restart the kernel to use updated packages.\n"
     ]
    }
   ],
   "source": [
    "pip install openpyxl"
   ]
  },
  {
   "cell_type": "code",
   "execution_count": 19,
   "metadata": {},
   "outputs": [],
   "source": [
    "import openpyxl"
   ]
  },
  {
   "cell_type": "code",
   "execution_count": 12,
   "metadata": {},
   "outputs": [],
   "source": [
    "genome_scores = pd.read_csv('C:\\\\Users\\\\t-yusuke\\\\Desktop\\\\Python_lesson\\\\movie_cocktail\\\\ml-25m\\\\genome-scores.csv')\n",
    "movies = pd.read_csv('C:\\\\Users\\\\t-yusuke\\\\Desktop\\\\Python_lesson\\\\movie_cocktail\\\\ml-25m\\\\movies.csv')\n",
    "tag_color = pd.read_csv('C:\\\\Users\\\\t-yusuke\\\\Desktop\\\\Python_lesson\\\\movie_cocktail\\\\tag_color.csv')"
   ]
  },
  {
   "cell_type": "code",
   "execution_count": 14,
   "metadata": {},
   "outputs": [
    {
     "data": {
      "text/html": [
       "<div>\n",
       "<style scoped>\n",
       "    .dataframe tbody tr th:only-of-type {\n",
       "        vertical-align: middle;\n",
       "    }\n",
       "\n",
       "    .dataframe tbody tr th {\n",
       "        vertical-align: top;\n",
       "    }\n",
       "\n",
       "    .dataframe thead th {\n",
       "        text-align: right;\n",
       "    }\n",
       "</style>\n",
       "<table border=\"1\" class=\"dataframe\">\n",
       "  <thead>\n",
       "    <tr style=\"text-align: right;\">\n",
       "      <th></th>\n",
       "      <th>movieId</th>\n",
       "      <th>tagId</th>\n",
       "      <th>relevance</th>\n",
       "      <th>tag</th>\n",
       "      <th>color</th>\n",
       "    </tr>\n",
       "  </thead>\n",
       "  <tbody>\n",
       "    <tr>\n",
       "      <th>0</th>\n",
       "      <td>1</td>\n",
       "      <td>30</td>\n",
       "      <td>0.67625</td>\n",
       "      <td>affectionate</td>\n",
       "      <td>Pink</td>\n",
       "    </tr>\n",
       "    <tr>\n",
       "      <th>1</th>\n",
       "      <td>2</td>\n",
       "      <td>30</td>\n",
       "      <td>0.12675</td>\n",
       "      <td>affectionate</td>\n",
       "      <td>Pink</td>\n",
       "    </tr>\n",
       "    <tr>\n",
       "      <th>2</th>\n",
       "      <td>3</td>\n",
       "      <td>30</td>\n",
       "      <td>0.09550</td>\n",
       "      <td>affectionate</td>\n",
       "      <td>Pink</td>\n",
       "    </tr>\n",
       "    <tr>\n",
       "      <th>3</th>\n",
       "      <td>4</td>\n",
       "      <td>30</td>\n",
       "      <td>0.13150</td>\n",
       "      <td>affectionate</td>\n",
       "      <td>Pink</td>\n",
       "    </tr>\n",
       "    <tr>\n",
       "      <th>4</th>\n",
       "      <td>5</td>\n",
       "      <td>30</td>\n",
       "      <td>0.11875</td>\n",
       "      <td>affectionate</td>\n",
       "      <td>Pink</td>\n",
       "    </tr>\n",
       "  </tbody>\n",
       "</table>\n",
       "</div>"
      ],
      "text/plain": [
       "   movieId  tagId  relevance           tag color\n",
       "0        1     30    0.67625  affectionate  Pink\n",
       "1        2     30    0.12675  affectionate  Pink\n",
       "2        3     30    0.09550  affectionate  Pink\n",
       "3        4     30    0.13150  affectionate  Pink\n",
       "4        5     30    0.11875  affectionate  Pink"
      ]
     },
     "execution_count": 14,
     "metadata": {},
     "output_type": "execute_result"
    }
   ],
   "source": [
    "pd.merge(genome_scores, tag_color, on='tagId').head()"
   ]
  },
  {
   "cell_type": "code",
   "execution_count": 15,
   "metadata": {},
   "outputs": [],
   "source": [
    "export_file_path = 'C:\\\\Users\\\\t-yusuke\\\\Desktop\\\\Python_lesson\\\\movie_cocktail\\\\output\\\\'"
   ]
  },
  {
   "cell_type": "code",
   "execution_count": 16,
   "metadata": {},
   "outputs": [],
   "source": [
    "scores_color = pd.merge(genome_scores, tag_color, on='tagId')"
   ]
  },
  {
   "cell_type": "code",
   "execution_count": 21,
   "metadata": {},
   "outputs": [],
   "source": [
    "scores_color.to_excel(export_file_path+'scores_color.xlsx')"
   ]
  },
  {
   "cell_type": "code",
   "execution_count": 92,
   "metadata": {},
   "outputs": [],
   "source": [
    "scores_color_max = scores_color.pivot_table(index='movieId', columns='color', values='relevance', aggfunc='max').round(2)"
   ]
  },
  {
   "cell_type": "code",
   "execution_count": 33,
   "metadata": {},
   "outputs": [
    {
     "name": "stdout",
     "output_type": "stream",
     "text": [
      "Collecting sns\n",
      "  Downloading sns-0.1.tar.gz (2.1 kB)\n",
      "Building wheels for collected packages: sns\n",
      "  Building wheel for sns (setup.py): started\n",
      "  Building wheel for sns (setup.py): finished with status 'done'\n",
      "  Created wheel for sns: filename=sns-0.1-py3-none-any.whl size=2669 sha256=24c0cc94d6e5b5147a5e31cffe000bc0843f157b9b373d303ae5550aaa48dbeb\n",
      "  Stored in directory: c:\\users\\t-yusuke\\appdata\\local\\pip\\cache\\wheels\\94\\30\\68\\c7bbc5257894097a14adf5c7d6e7de56127c9936f27afe2416\n",
      "Successfully built sns\n",
      "Installing collected packages: sns\n",
      "Successfully installed sns-0.1\n",
      "Note: you may need to restart the kernel to use updated packages.\n"
     ]
    }
   ],
   "source": [
    "pip install sns"
   ]
  },
  {
   "cell_type": "code",
   "execution_count": 34,
   "metadata": {},
   "outputs": [],
   "source": [
    "import matplotlib.pyplot as plt\n",
    "%matplotlib inline\n",
    "import seaborn as sns"
   ]
  },
  {
   "cell_type": "code",
   "execution_count": 93,
   "metadata": {},
   "outputs": [],
   "source": [
    "scores_color_max_most = scores_color_max.idxmax(axis=1)"
   ]
  },
  {
   "cell_type": "code",
   "execution_count": 83,
   "metadata": {},
   "outputs": [],
   "source": [
    "scores_color_mean = scores_color.pivot_table(index='movieId', columns='color', values='relevance', aggfunc='mean').round(2)"
   ]
  },
  {
   "cell_type": "code",
   "execution_count": 119,
   "metadata": {},
   "outputs": [
    {
     "name": "stdout",
     "output_type": "stream",
     "text": [
      "       movieId                title                 genres\n",
      "4203      4308  Moulin Rouge (2001)  Drama|Musical|Romance\n",
      "8017      8731  Moulin Rouge (1952)                  Drama\n",
      "57765   197109  Moulin Rouge (1928)                  Drama\n"
     ]
    }
   ],
   "source": [
    "print(movies.query('title.str.contains(\"Moulin Rouge\")',engine='python'))"
   ]
  },
  {
   "cell_type": "code",
   "execution_count": 120,
   "metadata": {},
   "outputs": [
    {
     "name": "stdout",
     "output_type": "stream",
     "text": [
      "color    Black  Blue  Brown  Gray  Green  Orange  Pink  Purple   Red  White  \\\n",
      "movieId                                                                       \n",
      "4308      0.29  0.31   0.18  0.22   0.02    0.28   0.7    0.13  0.93   0.45   \n",
      "\n",
      "color    Yellow  \n",
      "movieId          \n",
      "4308       0.28  \n"
     ]
    }
   ],
   "source": [
    "print(scores_color_max.query('movieId == \"4308\"'))"
   ]
  },
  {
   "cell_type": "code",
   "execution_count": 121,
   "metadata": {},
   "outputs": [
    {
     "name": "stdout",
     "output_type": "stream",
     "text": [
      "           0\n",
      "movieId     \n",
      "4308     Red\n"
     ]
    }
   ],
   "source": [
    "print(scores_color_max_most.to_frame().query('movieId == \"4308\"'))"
   ]
  },
  {
   "cell_type": "code",
   "execution_count": 103,
   "metadata": {},
   "outputs": [],
   "source": [
    "cocktail = pd.read_csv('C:\\\\Users\\\\t-yusuke\\\\Desktop\\\\Python_lesson\\\\movie_cocktail\\\\cocktail.csv')"
   ]
  },
  {
   "cell_type": "code",
   "execution_count": 122,
   "metadata": {},
   "outputs": [
    {
     "name": "stdout",
     "output_type": "stream",
     "text": [
      "  color                      short                         long\n",
      "0   Red  Jack Rose, Cherry Blossom  El Diablo, Campari and Soda\n"
     ]
    }
   ],
   "source": [
    "print(cocktail.query('color == \"Red\"'))"
   ]
  },
  {
   "cell_type": "code",
   "execution_count": null,
   "metadata": {},
   "outputs": [],
   "source": []
  },
  {
   "cell_type": "code",
   "execution_count": null,
   "metadata": {},
   "outputs": [],
   "source": []
  }
 ],
 "metadata": {
  "kernelspec": {
   "display_name": "Python 3",
   "language": "python",
   "name": "python3"
  },
  "language_info": {
   "codemirror_mode": {
    "name": "ipython",
    "version": 3
   },
   "file_extension": ".py",
   "mimetype": "text/x-python",
   "name": "python",
   "nbconvert_exporter": "python",
   "pygments_lexer": "ipython3",
   "version": "3.8.3"
  }
 },
 "nbformat": 4,
 "nbformat_minor": 4
}
