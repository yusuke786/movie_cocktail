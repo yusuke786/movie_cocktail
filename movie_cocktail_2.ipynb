{
 "cells": [
  {
   "cell_type": "code",
   "execution_count": 1,
   "metadata": {},
   "outputs": [],
   "source": [
    "#映画とカクテルを色でマッチング"
   ]
  },
  {
   "cell_type": "code",
   "execution_count": 2,
   "metadata": {},
   "outputs": [],
   "source": [
    "#インポート\n",
    "import pandas as pd\n",
    "import sqlite3\n",
   ]
  },
  {
   "cell_type": "code",
   "execution_count": 3,
   "metadata": {},
   "outputs": [],
   "source": [
    "#【映画】タイトル／タグ（関連性スコア）／タグ（色）\n",
    "movies = pd.read_csv('C:\\\\Users\\\\t-yusuke\\\\Desktop\\\\Python_lesson\\\\movie_cocktail\\\\ml-25m\\\\movies.csv')\n",
    "genome_scores = pd.read_csv('C:\\\\Users\\\\t-yusuke\\\\Desktop\\\\Python_lesson\\\\movie_cocktail\\\\ml-25m\\\\genome-scores.csv')\n",
    "tag_color = pd.read_csv('C:\\\\Users\\\\t-yusuke\\\\Desktop\\\\Python_lesson\\\\movie_cocktail\\\\tag_color.csv')\n",
    "\n",
    "#【カクテル】色別リスト\n",
    "cocktail = pd.read_csv('C:\\\\Users\\\\t-yusuke\\\\Desktop\\\\Python_lesson\\\\movie_cocktail\\\\cocktail.csv')"
   ]
  },
  {
   "cell_type": "code",
   "execution_count": 4,
   "metadata": {},
   "outputs": [
    {
     "data": {
      "text/html": [
       "<div>\n",
       "<style scoped>\n",
       "    .dataframe tbody tr th:only-of-type {\n",
       "        vertical-align: middle;\n",
       "    }\n",
       "\n",
       "    .dataframe tbody tr th {\n",
       "        vertical-align: top;\n",
       "    }\n",
       "\n",
       "    .dataframe thead th {\n",
       "        text-align: right;\n",
       "    }\n",
       "</style>\n",
       "<table border=\"1\" class=\"dataframe\">\n",
       "  <thead>\n",
       "    <tr style=\"text-align: right;\">\n",
       "      <th></th>\n",
       "      <th>movieId</th>\n",
       "      <th>title</th>\n",
       "      <th>genres</th>\n",
       "    </tr>\n",
       "  </thead>\n",
       "  <tbody>\n",
       "    <tr>\n",
       "      <th>0</th>\n",
       "      <td>1</td>\n",
       "      <td>Toy Story (1995)</td>\n",
       "      <td>Adventure|Animation|Children|Comedy|Fantasy</td>\n",
       "    </tr>\n",
       "    <tr>\n",
       "      <th>1</th>\n",
       "      <td>2</td>\n",
       "      <td>Jumanji (1995)</td>\n",
       "      <td>Adventure|Children|Fantasy</td>\n",
       "    </tr>\n",
       "    <tr>\n",
       "      <th>2</th>\n",
       "      <td>3</td>\n",
       "      <td>Grumpier Old Men (1995)</td>\n",
       "      <td>Comedy|Romance</td>\n",
       "    </tr>\n",
       "    <tr>\n",
       "      <th>3</th>\n",
       "      <td>4</td>\n",
       "      <td>Waiting to Exhale (1995)</td>\n",
       "      <td>Comedy|Drama|Romance</td>\n",
       "    </tr>\n",
       "    <tr>\n",
       "      <th>4</th>\n",
       "      <td>5</td>\n",
       "      <td>Father of the Bride Part II (1995)</td>\n",
       "      <td>Comedy</td>\n",
       "    </tr>\n",
       "  </tbody>\n",
       "</table>\n",
       "</div>"
      ],
      "text/plain": [
       "   movieId                               title  \\\n",
       "0        1                    Toy Story (1995)   \n",
       "1        2                      Jumanji (1995)   \n",
       "2        3             Grumpier Old Men (1995)   \n",
       "3        4            Waiting to Exhale (1995)   \n",
       "4        5  Father of the Bride Part II (1995)   \n",
       "\n",
       "                                        genres  \n",
       "0  Adventure|Animation|Children|Comedy|Fantasy  \n",
       "1                   Adventure|Children|Fantasy  \n",
       "2                               Comedy|Romance  \n",
       "3                         Comedy|Drama|Romance  \n",
       "4                                       Comedy  "
      ]
     },
     "execution_count": 4,
     "metadata": {},
     "output_type": "execute_result"
    }
   ],
   "source": [
    "movies.head()"
   ]
  },
  {
   "cell_type": "code",
   "execution_count": 5,
   "metadata": {},
   "outputs": [],
   "source": [
    "db_name ='movie.db'\n",
    "conn = sqlite3.connect(db_name)"
   ]
  },
  {
   "cell_type": "code",
   "execution_count": 6,
   "metadata": {},
   "outputs": [
    {
     "data": {
      "text/plain": [
       "<sqlite3.Connection at 0x221df186e40>"
      ]
     },
     "execution_count": 6,
     "metadata": {},
     "output_type": "execute_result"
    }
   ],
   "source": [
    "conn"
   ]
  },
  {
   "cell_type": "code",
   "execution_count": 7,
   "metadata": {},
   "outputs": [],
   "source": [
    "movies.to_sql('movies', conn, if_exists='replace')\n",
    "genome_scores.to_sql('genome_scores', conn, if_exists='replace')\n",
    "tag_color.to_sql('tag_color', conn, if_exists='replace')\n",
    "cocktail.to_sql('cocktail', conn, if_exists='replace')"
   ]
  },
  {
   "cell_type": "code",
   "execution_count": 8,
   "metadata": {},
   "outputs": [],
   "source": [
    "c = conn.cursor()"
   ]
  },
  {
   "cell_type": "code",
   "execution_count": 9,
   "metadata": {},
   "outputs": [
    {
     "data": {
      "text/plain": [
       "<sqlite3.Cursor at 0x22180008500>"
      ]
     },
     "execution_count": 9,
     "metadata": {},
     "output_type": "execute_result"
    }
   ],
   "source": [
    "query = 'SELECT * FROM movies'\n",
    "c.execute(query)"
   ]
  },
  {
   "cell_type": "code",
   "execution_count": 10,
   "metadata": {},
   "outputs": [
    {
     "data": {
      "text/plain": [
       "<bound method NDFrame.head of         movieId  tagId  relevance           tag color\n",
       "0             1     30    0.67625  affectionate  Pink\n",
       "1             2     30    0.12675  affectionate  Pink\n",
       "2             3     30    0.09550  affectionate  Pink\n",
       "3             4     30    0.13150  affectionate  Pink\n",
       "4             5     30    0.11875  affectionate  Pink\n",
       "...         ...    ...        ...           ...   ...\n",
       "594083   205072   1116    0.11675         women   Red\n",
       "594084   205076   1116    0.13225         women   Red\n",
       "594085   205383   1116    0.42750         women   Red\n",
       "594086   205425   1116    0.10775         women   Red\n",
       "594087   206499   1116    0.32850         women   Red\n",
       "\n",
       "[594088 rows x 5 columns]>"
      ]
     },
     "execution_count": 10,
     "metadata": {},
     "output_type": "execute_result"
    }
   ],
   "source": [
    "pd.merge(genome_scores, tag_color, on='tagId').head"
   ]
  },
  {
   "cell_type": "code",
   "execution_count": 11,
   "metadata": {},
   "outputs": [],
   "source": [
    "scores_color = pd.merge(genome_scores, tag_color, on='tagId')"
   ]
  },
  {
   "cell_type": "code",
   "execution_count": 12,
   "metadata": {},
   "outputs": [],
   "source": [
    "#出力パス\n",
    "export_file_path = 'C:\\\\Users\\\\t-yusuke\\\\Desktop\\\\Python_lesson\\\\movie_cocktail\\\\output\\\\'"
   ]
  },
  {
   "cell_type": "code",
   "execution_count": 13,
   "metadata": {},
   "outputs": [],
   "source": [
    "#Excelファイル書き出し\n",
    "scores_color.to_excel(export_file_path+'scores_color.xlsx')"
   ]
  },
  {
   "cell_type": "code",
   "execution_count": 14,
   "metadata": {},
   "outputs": [],
   "source": [
    "#【色別】最も関連性が高いタグ\n",
    "scores_color_max = scores_color.pivot_table(index='movieId', columns='color', values='relevance', aggfunc='max').round(2)"
   ]
  },
  {
   "cell_type": "code",
   "execution_count": 15,
   "metadata": {},
   "outputs": [],
   "source": [
    "#【映画のテーマカラー】最も関連性が高いタグ\n",
    "scores_color_max_most = scores_color_max.idxmax(axis=1)"
   ]
  },
  {
   "cell_type": "code",
   "execution_count": 16,
   "metadata": {},
   "outputs": [],
   "source": [
    "#【色別】関連性の平均\n",
    "scores_color_mean = scores_color.pivot_table(index='movieId', columns='color', values='relevance', aggfunc='mean').round(2)"
   ]
  },
  {
   "cell_type": "code",
   "execution_count": 17,
   "metadata": {},
   "outputs": [],
   "source": [
    "#例：映画ムーランルージュとカクテルを色でマッチング"
   ]
  },
  {
   "cell_type": "code",
   "execution_count": 18,
   "metadata": {},
   "outputs": [
    {
     "name": "stdout",
     "output_type": "stream",
     "text": [
      "       movieId                title                 genres\n",
      "4203      4308  Moulin Rouge (2001)  Drama|Musical|Romance\n",
      "8017      8731  Moulin Rouge (1952)                  Drama\n",
      "57765   197109  Moulin Rouge (1928)                  Drama\n"
     ]
    }
   ],
   "source": [
    "#ムーランルージュのmovieIDを確認\n",
    "print(movies.query('title.str.contains(\"Moulin Rouge\")',engine='python'))"
   ]
  },
  {
   "cell_type": "code",
   "execution_count": 19,
   "metadata": {},
   "outputs": [
    {
     "name": "stdout",
     "output_type": "stream",
     "text": [
      "color    Black  Blue  Brown  Gray  Green  Orange  Pink  Purple   Red  White  \\\n",
      "movieId                                                                       \n",
      "4308      0.29  0.31   0.18  0.22   0.02    0.28   0.7    0.13  0.93   0.45   \n",
      "\n",
      "color    Yellow  \n",
      "movieId          \n",
      "4308       0.28  \n"
     ]
    }
   ],
   "source": [
    "#ムーランルージュ(2001)と関連性の高い色を確認\n",
    "print(scores_color_max.query('movieId == \"4308\"'))"
   ]
  },
  {
   "cell_type": "code",
   "execution_count": 20,
   "metadata": {},
   "outputs": [
    {
     "name": "stdout",
     "output_type": "stream",
     "text": [
      "           0\n",
      "movieId     \n",
      "4308     Red\n"
     ]
    }
   ],
   "source": [
    "#最も関連性の高い色を抽出\n",
    "print(scores_color_max_most.to_frame().query('movieId == \"4308\"'))"
   ]
  },
  {
   "cell_type": "code",
   "execution_count": 21,
   "metadata": {},
   "outputs": [
    {
     "name": "stdout",
     "output_type": "stream",
     "text": [
      "  color                      short                         long\n",
      "0   Red  Jack Rose, Cherry Blossom  El Diablo, Campari and Soda\n"
     ]
    }
   ],
   "source": [
    "#赤色のカクテルを抽出\n",
    "print(cocktail.query('color == \"Red\"'))"
   ]
  },
  {
   "cell_type": "code",
   "execution_count": null,
   "metadata": {},
   "outputs": [],
   "source": []
  },
  {
   "cell_type": "code",
   "execution_count": null,
   "metadata": {},
   "outputs": [],
   "source": []
  }
 ],
 "metadata": {
  "kernelspec": {
   "display_name": "Python 3",
   "language": "python",
   "name": "python3"
  },
  "language_info": {
   "codemirror_mode": {
    "name": "ipython",
    "version": 3
   },
   "file_extension": ".py",
   "mimetype": "text/x-python",
   "name": "python",
   "nbconvert_exporter": "python",
   "pygments_lexer": "ipython3",
   "version": "3.8.3"
  }
 },
 "nbformat": 4,
 "nbformat_minor": 4
}
