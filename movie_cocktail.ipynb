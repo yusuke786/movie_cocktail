{
 "cells": [
  {
   "cell_type": "code",
   "execution_count": 32,
   "metadata": {},
   "outputs": [],
   "source": [
    "#映画とカクテルを色でマッチング"
   ]
  },
  {
   "cell_type": "code",
   "execution_count": 5,
   "metadata": {},
   "outputs": [],
   "source": [
    "#インポート\n",
    "import pandas as pd"
   ]
  },
  {
   "cell_type": "code",
   "execution_count": 6,
   "metadata": {},
   "outputs": [
    {
     "name": "stdout",
     "output_type": "stream",
     "text": [
      "Requirement already satisfied: openpyxl in c:\\users\\t-yusuke\\anaconda3\\lib\\site-packages (3.0.4)\n",
      "Requirement already satisfied: jdcal in c:\\users\\t-yusuke\\anaconda3\\lib\\site-packages (from openpyxl) (1.4.1)\n",
      "Requirement already satisfied: et-xmlfile in c:\\users\\t-yusuke\\anaconda3\\lib\\site-packages (from openpyxl) (1.0.1)\n",
      "Note: you may need to restart the kernel to use updated packages.\n"
     ]
    }
   ],
   "source": [
    "pip install openpyxl"
   ]
  },
  {
   "cell_type": "code",
   "execution_count": 7,
   "metadata": {},
   "outputs": [],
   "source": [
    "import openpyxl"
   ]
  },
  {
   "cell_type": "code",
   "execution_count": 40,
   "metadata": {},
   "outputs": [],
   "source": [
    "#CSVファイルの読み込み\n",
    "movies = pd.read_csv('C:\\\\Users\\\\t-yusuke\\\\Desktop\\\\Python_lesson\\\\movie_cocktail\\\\ml-25m\\\\movies.csv')\n",
    "genome_scores = pd.read_csv('C:\\\\Users\\\\t-yusuke\\\\Desktop\\\\Python_lesson\\\\movie_cocktail\\\\ml-25m\\\\genome-scores.csv')\n",
    "tag_color = pd.read_csv('C:\\\\Users\\\\t-yusuke\\\\Desktop\\\\Python_lesson\\\\movie_cocktail\\\\tag_color.csv')"
   ]
  },
  {
   "cell_type": "code",
   "execution_count": 41,
   "metadata": {},
   "outputs": [
    {
     "name": "stdout",
     "output_type": "stream",
     "text": [
      "       movieId                               title  \\\n",
      "0            1                    Toy Story (1995)   \n",
      "1            2                      Jumanji (1995)   \n",
      "2            3             Grumpier Old Men (1995)   \n",
      "3            4            Waiting to Exhale (1995)   \n",
      "4            5  Father of the Bride Part II (1995)   \n",
      "...        ...                                 ...   \n",
      "62418   209157                           We (2018)   \n",
      "62419   209159           Window of the Soul (2001)   \n",
      "62420   209163                    Bad Poems (2018)   \n",
      "62421   209169                 A Girl Thing (2001)   \n",
      "62422   209171      Women of Devil's Island (1962)   \n",
      "\n",
      "                                            genres  \n",
      "0      Adventure|Animation|Children|Comedy|Fantasy  \n",
      "1                       Adventure|Children|Fantasy  \n",
      "2                                   Comedy|Romance  \n",
      "3                             Comedy|Drama|Romance  \n",
      "4                                           Comedy  \n",
      "...                                            ...  \n",
      "62418                                        Drama  \n",
      "62419                                  Documentary  \n",
      "62420                                 Comedy|Drama  \n",
      "62421                           (no genres listed)  \n",
      "62422                       Action|Adventure|Drama  \n",
      "\n",
      "[62423 rows x 3 columns]\n"
     ]
    }
   ],
   "source": [
    "#映画\n",
    "print(movies)"
   ]
  },
  {
   "cell_type": "code",
   "execution_count": 42,
   "metadata": {},
   "outputs": [
    {
     "name": "stdout",
     "output_type": "stream",
     "text": [
      "          movieId  tagId  relevance\n",
      "0               1      1    0.02875\n",
      "1               1      2    0.02375\n",
      "2               1      3    0.06250\n",
      "3               1      4    0.07575\n",
      "4               1      5    0.14075\n",
      "...           ...    ...        ...\n",
      "15584443   206499   1124    0.11000\n",
      "15584444   206499   1125    0.04850\n",
      "15584445   206499   1126    0.01325\n",
      "15584446   206499   1127    0.14025\n",
      "15584447   206499   1128    0.03350\n",
      "\n",
      "[15584448 rows x 3 columns]\n"
     ]
    }
   ],
   "source": [
    "#映画とタグ（関連性スコア）\n",
    "print(genome_scores)"
   ]
  },
  {
   "cell_type": "code",
   "execution_count": 43,
   "metadata": {},
   "outputs": [
    {
     "name": "stdout",
     "output_type": "stream",
     "text": [
      "    tagId           tag   color\n",
      "0      30  affectionate    Pink\n",
      "1     145         blood     Red\n",
      "2     198        cheesy  Orange\n",
      "3     203     childhood  Yellow\n",
      "4     206     chocolate   Brown\n",
      "5     210     christmas   Green\n",
      "6     215       classic  Purple\n",
      "7     255          cool    Gray\n",
      "8     278          cute    Pink\n",
      "9     278          cute  Orange\n",
      "10    292         death   Black\n",
      "11    342       ecology   Green\n",
      "12    360        erotic    Pink\n",
      "13    397          fish    Blue\n",
      "14    410       freedom  Orange\n",
      "15    414           fun  Orange\n",
      "16    414           fun  Yellow\n",
      "17    419        future   White\n",
      "18    444          golf   Green\n",
      "19    445          good   White\n",
      "20    486     halloween  Orange\n",
      "21    519        honest    Blue\n",
      "22    523        horses   Brown\n",
      "23    524      hospital   White\n",
      "24    551   intelligent    Blue\n",
      "25    576      japanese  Purple\n",
      "26    600          life     Red\n",
      "27    610    loneliness   Black\n",
      "28    613          love     Red\n",
      "29    641    melancholy    Blue\n",
      "30    695        nature   Brown\n",
      "31    695        nature   Green\n",
      "32    771    passionate     Red\n",
      "33    864      romantic    Pink\n",
      "34    871           sad    Gray\n",
      "35    882         scary     Red\n",
      "36    942         space    Blue\n",
      "37   1003         sweet    Pink\n",
      "38   1020         tense     Red\n",
      "39   1020         tense   White\n",
      "40   1063   unrealistic  Purple\n",
      "41   1102       wedding   White\n",
      "42   1116         women     Red\n"
     ]
    }
   ],
   "source": [
    "#タグから連想される色\n",
    "print(tag_color)"
   ]
  },
  {
   "cell_type": "code",
   "execution_count": 44,
   "metadata": {},
   "outputs": [
    {
     "data": {
      "text/plain": [
       "<bound method NDFrame.head of         movieId  tagId  relevance           tag color\n",
       "0             1     30    0.67625  affectionate  Pink\n",
       "1             2     30    0.12675  affectionate  Pink\n",
       "2             3     30    0.09550  affectionate  Pink\n",
       "3             4     30    0.13150  affectionate  Pink\n",
       "4             5     30    0.11875  affectionate  Pink\n",
       "...         ...    ...        ...           ...   ...\n",
       "594083   205072   1116    0.11675         women   Red\n",
       "594084   205076   1116    0.13225         women   Red\n",
       "594085   205383   1116    0.42750         women   Red\n",
       "594086   205425   1116    0.10775         women   Red\n",
       "594087   206499   1116    0.32850         women   Red\n",
       "\n",
       "[594088 rows x 5 columns]>"
      ]
     },
     "execution_count": 44,
     "metadata": {},
     "output_type": "execute_result"
    }
   ],
   "source": [
    "#タグと色をマージ\n",
    "pd.merge(genome_scores, tag_color, on='tagId').head"
   ]
  },
  {
   "cell_type": "code",
   "execution_count": 45,
   "metadata": {},
   "outputs": [],
   "source": [
    "scores_color = pd.merge(genome_scores, tag_color, on='tagId')"
   ]
  },
  {
   "cell_type": "code",
   "execution_count": 26,
   "metadata": {},
   "outputs": [],
   "source": [
    "#パス\n",
    "export_file_path = 'C:\\\\Users\\\\t-yusuke\\\\Desktop\\\\Python_lesson\\\\movie_cocktail\\\\output\\\\'"
   ]
  },
  {
   "cell_type": "code",
   "execution_count": 27,
   "metadata": {},
   "outputs": [],
   "source": [
    "#Excelファイルの書き出し\n",
    "scores_color.to_excel(export_file_path+'scores_color.xlsx')"
   ]
  },
  {
   "cell_type": "code",
   "execution_count": 46,
   "metadata": {},
   "outputs": [],
   "source": [
    "#【色別】最も関連性が高いタグ\n",
    "scores_color_max = scores_color.pivot_table(index='movieId', columns='color', values='relevance', aggfunc='max').round(2)"
   ]
  },
  {
   "cell_type": "code",
   "execution_count": 47,
   "metadata": {},
   "outputs": [],
   "source": [
    "#【映画のテーマカラー】最も関連性が高いタグ\n",
    "scores_color_max_most = scores_color_max.idxmax(axis=1)"
   ]
  },
  {
   "cell_type": "code",
   "execution_count": 48,
   "metadata": {},
   "outputs": [],
   "source": [
    "#【色別】関連性の平均\n",
    "scores_color_mean = scores_color.pivot_table(index='movieId', columns='color', values='relevance', aggfunc='mean').round(2)"
   ]
  },
  {
   "cell_type": "code",
   "execution_count": 49,
   "metadata": {},
   "outputs": [],
   "source": [
    "#以下は例：ムーランルージュとカクテルを色でマッチング"
   ]
  },
  {
   "cell_type": "code",
   "execution_count": 50,
   "metadata": {},
   "outputs": [
    {
     "name": "stdout",
     "output_type": "stream",
     "text": [
      "       movieId                title                 genres\n",
      "4203      4308  Moulin Rouge (2001)  Drama|Musical|Romance\n",
      "8017      8731  Moulin Rouge (1952)                  Drama\n",
      "57765   197109  Moulin Rouge (1928)                  Drama\n"
     ]
    }
   ],
   "source": [
    "#ムーランルージュのmovieIDを確認\n",
    "print(movies.query('title.str.contains(\"Moulin Rouge\")',engine='python'))"
   ]
  },
  {
   "cell_type": "code",
   "execution_count": 51,
   "metadata": {},
   "outputs": [
    {
     "name": "stdout",
     "output_type": "stream",
     "text": [
      "color    Black  Blue  Brown  Gray  Green  Orange  Pink  Purple   Red  White  \\\n",
      "movieId                                                                       \n",
      "4308      0.29  0.31   0.18  0.22   0.02    0.28   0.7    0.13  0.93   0.45   \n",
      "\n",
      "color    Yellow  \n",
      "movieId          \n",
      "4308       0.28  \n"
     ]
    }
   ],
   "source": [
    "#ムーランルージュ(2001)と関連性の高い色を確認\n",
    "print(scores_color_max.query('movieId == \"4308\"'))"
   ]
  },
  {
   "cell_type": "code",
   "execution_count": 52,
   "metadata": {},
   "outputs": [
    {
     "name": "stdout",
     "output_type": "stream",
     "text": [
      "           0\n",
      "movieId     \n",
      "4308     Red\n"
     ]
    }
   ],
   "source": [
    "#最も関連性の高い色を抽出\n",
    "print(scores_color_max_most.to_frame().query('movieId == \"4308\"'))"
   ]
  },
  {
   "cell_type": "code",
   "execution_count": 54,
   "metadata": {},
   "outputs": [],
   "source": [
    "#【色別】カクテルリストを読み込み\n",
    "cocktail = pd.read_csv('C:\\\\Users\\\\t-yusuke\\\\Desktop\\\\Python_lesson\\\\movie_cocktail\\\\cocktail.csv')"
   ]
  },
  {
   "cell_type": "code",
   "execution_count": 56,
   "metadata": {},
   "outputs": [
    {
     "name": "stdout",
     "output_type": "stream",
     "text": [
      "  color                      short                         long\n",
      "0   Red  Jack Rose, Cherry Blossom  El Diablo, Campari and Soda\n"
     ]
    }
   ],
   "source": [
    "#赤色のカクテルを抽出\n",
    "print(cocktail.query('color == \"Red\"'))"
   ]
  },
  {
   "cell_type": "code",
   "execution_count": null,
   "metadata": {},
   "outputs": [],
   "source": []
  },
  {
   "cell_type": "code",
   "execution_count": null,
   "metadata": {},
   "outputs": [],
   "source": []
  }
 ],
 "metadata": {
  "kernelspec": {
   "display_name": "Python 3",
   "language": "python",
   "name": "python3"
  },
  "language_info": {
   "codemirror_mode": {
    "name": "ipython",
    "version": 3
   },
   "file_extension": ".py",
   "mimetype": "text/x-python",
   "name": "python",
   "nbconvert_exporter": "python",
   "pygments_lexer": "ipython3",
   "version": "3.8.3"
  }
 },
 "nbformat": 4,
 "nbformat_minor": 4
}
